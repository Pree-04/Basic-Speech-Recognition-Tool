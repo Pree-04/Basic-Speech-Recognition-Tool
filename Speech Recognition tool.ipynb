{
 "cells": [
  {
   "cell_type": "markdown",
   "id": "8aaeddc8",
   "metadata": {},
   "source": [
    "# Project 1 by Preetha S \n",
    "# Basic Speech Recognition tool - A Tkinter application"
   ]
  },
  {
   "cell_type": "code",
   "execution_count": 1,
   "id": "60e885a7",
   "metadata": {},
   "outputs": [
    {
     "name": "stdout",
     "output_type": "stream",
     "text": [
      "Collecting SpeechRecognition\n",
      "  Downloading SpeechRecognition-3.10.4-py2.py3-none-any.whl (32.8 MB)\n",
      "     --------------------------------------- 32.8/32.8 MB 12.3 MB/s eta 0:00:00\n",
      "Collecting pyaudio\n",
      "  Downloading PyAudio-0.2.14-cp39-cp39-win_amd64.whl (164 kB)\n",
      "     ---------------------------------------- 164.1/164.1 kB ? eta 0:00:00\n",
      "Requirement already satisfied: typing-extensions in c:\\users\\preet\\anaconda3\\lib\\site-packages (from SpeechRecognition) (4.11.0)\n",
      "Requirement already satisfied: requests>=2.26.0 in c:\\users\\preet\\anaconda3\\lib\\site-packages (from SpeechRecognition) (2.28.1)\n",
      "Requirement already satisfied: charset-normalizer<3,>=2 in c:\\users\\preet\\anaconda3\\lib\\site-packages (from requests>=2.26.0->SpeechRecognition) (2.0.4)\n",
      "Requirement already satisfied: urllib3<1.27,>=1.21.1 in c:\\users\\preet\\anaconda3\\lib\\site-packages (from requests>=2.26.0->SpeechRecognition) (1.26.11)\n",
      "Requirement already satisfied: certifi>=2017.4.17 in c:\\users\\preet\\anaconda3\\lib\\site-packages (from requests>=2.26.0->SpeechRecognition) (2022.9.14)\n",
      "Requirement already satisfied: idna<4,>=2.5 in c:\\users\\preet\\anaconda3\\lib\\site-packages (from requests>=2.26.0->SpeechRecognition) (3.3)\n",
      "Installing collected packages: pyaudio, SpeechRecognition\n",
      "Successfully installed SpeechRecognition-3.10.4 pyaudio-0.2.14\n"
     ]
    }
   ],
   "source": [
    "!pip install SpeechRecognition pyaudio"
   ]
  },
  {
   "cell_type": "markdown",
   "id": "fe6305cd",
   "metadata": {},
   "source": [
    "# Importing necessary libraries - tkinter and speech_recognition"
   ]
  },
  {
   "cell_type": "code",
   "execution_count": 2,
   "id": "db57322e",
   "metadata": {},
   "outputs": [],
   "source": [
    "import tkinter as tk\n",
    "from tkinter import messagebox\n",
    "import speech_recognition as sr\n",
    "import os"
   ]
  },
  {
   "cell_type": "code",
   "execution_count": null,
   "id": "c15326d1",
   "metadata": {},
   "outputs": [],
   "source": [
    "class SpeechRecognitionApp:\n",
    "    def __init__(self, root):\n",
    "        self.root = root\n",
    "        self.root.title(\"Basic Speech Recognition Tool by Preetha S\")\n",
    "        self.root.geometry(\"500x400\")\n",
    "        self.root.configure(bg='#f0f0f0')\n",
    "\n",
    "        self.create_widgets()\n",
    "\n",
    "    def create_widgets(self):\n",
    "        #Header\n",
    "        header = tk.Label(self.root, text=\"Basic Speech Recognition Tool by Preetha S\", \n",
    "                          font=(\"Helvetica\", 16, \"bold\"), bg='#283593', fg='white', pady=10)\n",
    "        header.pack(fill=tk.X)\n",
    "\n",
    "        #Instructions\n",
    "        instructions = tk.Label(self.root, text=\"Press here to speak\", \n",
    "                                font=(\"Helvetica\", 12), bg='#f0f0f0')\n",
    "        instructions.pack(pady=20)\n",
    "\n",
    "        #Microphone button\n",
    "        mic_button = tk.Button(self.root, text=\"🎙️\", command=self.recognize_speech, \n",
    "                               font=(\"Helvetica\", 24), bg='#64b5f6', borderwidth=0, activebackground='#42a5f5')\n",
    "        mic_button.pack(pady=20)\n",
    "\n",
    "        #Output Label\n",
    "        self.output_label = tk.Label(self.root, text=\"\", font=(\"Helvetica\", 14), bg='#f0f0f0')\n",
    "        self.output_label.pack(pady=20)\n",
    "\n",
    "        #Footer\n",
    "        footer_frame = tk.Frame(self.root, bg='#283593', pady=10)\n",
    "        footer_frame.pack(fill=tk.X, side=tk.BOTTOM)\n",
    "        github_link = tk.Label(footer_frame, text=\"GitHub: https://github.com/Pree-04\", \n",
    "                               font=(\"Helvetica\", 10), bg='#283593', fg='white', cursor=\"hand2\")\n",
    "        github_link.pack()\n",
    "        linkedin_link = tk.Label(footer_frame, text=\"LinkedIn: https://www.linkedin.com/in/preetha-s-88820b235/\", \n",
    "                                 font=(\"Helvetica\", 10), bg='#283593', fg='white', cursor=\"hand2\")\n",
    "        linkedin_link.pack()\n",
    "\n",
    "        github_link.bind(\"<Button-1>\", lambda e: self.open_link(\"https://github.com/Pree-04\"))\n",
    "        linkedin_link.bind(\"<Button-1>\", lambda e: self.open_link(\"https://www.linkedin.com/in/preetha-s-88820b235/\"))\n",
    "\n",
    "    def recognize_speech(self):\n",
    "        recognizer = sr.Recognizer()\n",
    "        microphone = sr.Microphone()\n",
    "\n",
    "        try:\n",
    "            with microphone as source:\n",
    "                self.output_label.config(text=\"Listening... please speak.\")\n",
    "                self.root.update()  #message\n",
    "                recognizer.adjust_for_ambient_noise(source)\n",
    "                audio = recognizer.listen(source)\n",
    "                self.output_label.config(text=\"Processing your speech...\")\n",
    "                self.root.update()  #message for processing speech\n",
    "\n",
    "            text = recognizer.recognize_google(audio)\n",
    "            self.output_label.config(text=f\"You said: {text}\")\n",
    "\n",
    "        except sr.RequestError:\n",
    "            self.output_label.config(text=\"API unavailable\")\n",
    "        except sr.UnknownValueError:\n",
    "            self.output_label.config(text=\"Unable to recognize speech\")\n",
    "\n",
    "    def open_link(self, url):\n",
    "        import webbrowser\n",
    "        webbrowser.open_new(url)\n",
    "\n",
    "if __name__ == \"__main__\":\n",
    "    root = tk.Tk()\n",
    "    app = SpeechRecognitionApp(root)\n",
    "    root.mainloop()"
   ]
  },
  {
   "cell_type": "code",
   "execution_count": null,
   "id": "a83b7d57",
   "metadata": {},
   "outputs": [],
   "source": []
  }
 ],
 "metadata": {
  "kernelspec": {
   "display_name": "Python 3 (ipykernel)",
   "language": "python",
   "name": "python3"
  },
  "language_info": {
   "codemirror_mode": {
    "name": "ipython",
    "version": 3
   },
   "file_extension": ".py",
   "mimetype": "text/x-python",
   "name": "python",
   "nbconvert_exporter": "python",
   "pygments_lexer": "ipython3",
   "version": "3.9.13"
  }
 },
 "nbformat": 4,
 "nbformat_minor": 5
}
